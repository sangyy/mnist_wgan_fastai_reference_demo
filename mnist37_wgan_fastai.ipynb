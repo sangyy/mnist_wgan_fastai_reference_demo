{
 "cells": [
  {
   "cell_type": "markdown",
   "metadata": {},
   "source": [
    "# k12实践深度学习系列 ：会造假的神经网络"
   ]
  },
  {
   "cell_type": "markdown",
   "metadata": {},
   "source": [
    "# 无监督学习新方法，生成对抗网络自监督学习（WGAN神经网络生成人类手写体数字）"
   ]
  },
  {
   "cell_type": "markdown",
   "metadata": {},
   "source": [
    "# Generative Adversarial Networks (GANs)"
   ]
  },
  {
   "cell_type": "markdown",
   "metadata": {},
   "source": [
    "在解读WGAN（Wasserstein GAN）之前，必须先理解什么是GANs。GANs本质上是一种生成模型（generative model，简称G），它可以用于生成文本、图像、语音等任何“假”数据（fake data），为了提高“假”数据的质量，GANs引入另一个鉴别模型（discriminator，简称D），来分辨真实数据和“假”数据。生成模型和鉴别模型的持续对抗的过程中，两模型的造“假”和打“假”能力不断提升，“假”数据最终达到以假乱真的效果。这就是生成（Generative）和对抗（Adversarial）的由来。\n"
   ]
  },
  {
   "cell_type": "markdown",
   "metadata": {},
   "source": [
    "# GANs的实现过程："
   ]
  },
  {
   "cell_type": "markdown",
   "metadata": {},
   "source": [
    "创建两个独立网络：G(创作网络）和 D(鉴别网络),让它们在对抗中不断学习成长。\n",
    "\n",
    "为D（鉴别网络）创建loss函数，用于训练其区分真实数据和“假”数据，让D网络学会打假。\n",
    "\n",
    "为G（创作网络）创建loss函数，用于训练其生成出能够骗过D的“假”数据，让G网络学会造假。"
   ]
  },
  {
   "cell_type": "markdown",
   "metadata": {},
   "source": [
    "<img src=\"gan.png\" width=\"70%\">"
   ]
  },
  {
   "cell_type": "markdown",
   "metadata": {},
   "source": [
    "# Wasserstein GAN （WGAN）"
   ]
  },
  {
   "cell_type": "markdown",
   "metadata": {},
   "source": [
    "WGAN新算法是传统GAN训练的替代方法。用这个新模型完成生成对抗网络任务，可以提高神经网络学习的稳定性，摆脱模式崩溃之类的问题，并提供有意义的学习曲线，方便调试和超参数搜索。"
   ]
  },
  {
   "cell_type": "code",
   "execution_count": 1,
   "metadata": {
    "collapsed": true
   },
   "outputs": [],
   "source": [
    "%reload_ext autoreload\n",
    "%autoreload 2\n",
    "%matplotlib inline"
   ]
  },
  {
   "cell_type": "code",
   "execution_count": 2,
   "metadata": {
    "collapsed": true
   },
   "outputs": [],
   "source": [
    "from fastai.vision import *\n",
    "from fastai.vision.gan import *"
   ]
  },
  {
   "cell_type": "markdown",
   "metadata": {},
   "source": [
    "## 创建手写体数字的数据集"
   ]
  },
  {
   "cell_type": "markdown",
   "metadata": {},
   "source": [
    "本节课，我们将使用`MNIST`的手写体数据集。整个数据集略大，因此这里我们只用`MNIST_SAMPLE`节选数字3和7的手写体数据来模仿。"
   ]
  },
  {
   "cell_type": "code",
   "execution_count": 3,
   "metadata": {},
   "outputs": [
    {
     "data": {
      "text/plain": [
       "PosixPath('mnist_sample')"
      ]
     },
     "execution_count": 3,
     "metadata": {},
     "output_type": "execute_result"
    }
   ],
   "source": [
    "# path = untar_data(URLs.MNIST_SAMPLE); path\n",
    "path = Path('mnist_sample');path"
   ]
  },
  {
   "cell_type": "markdown",
   "metadata": {},
   "source": [
    "预处理训练数据：我们使用data block API抓取所有图片到文件夹中。我们不会创建一个独立验证集，后面会做解释。输入数据里包含了均值为100的随机噪声，并将手写体数字的图片作为目标。"
   ]
  },
  {
   "cell_type": "code",
   "execution_count": 4,
   "metadata": {
    "collapsed": true
   },
   "outputs": [],
   "source": [
    "def get_data(bs, size):\n",
    "    return (GANItemList.from_folder(path, noise_sz=100)\n",
    "               .split_none() \n",
    "               .label_from_func(noop)\n",
    "               .transform(tfms=[[crop_pad(size=size, row_pct=(0,1), col_pct=(0,1))], []], size=size, tfm_y=True)\n",
    "               .databunch(bs=bs)\n",
    "               .normalize(stats = [torch.tensor([0.5,0.5,0.5]), torch.tensor([0.5,0.5,0.5])], do_x=False, do_y=True))"
   ]
  },
  {
   "cell_type": "markdown",
   "metadata": {},
   "source": [
    "创建bs=32,size=16的Dataset和Dataloader"
   ]
  },
  {
   "cell_type": "code",
   "execution_count": 5,
   "metadata": {
    "collapsed": true
   },
   "outputs": [],
   "source": [
    "data = get_data(32, 16)"
   ]
  },
  {
   "cell_type": "code",
   "execution_count": 6,
   "metadata": {},
   "outputs": [
    {
     "data": {
      "text/plain": [
       "451"
      ]
     },
     "execution_count": 6,
     "metadata": {},
     "output_type": "execute_result"
    }
   ],
   "source": [
    "len(data.train_dl)"
   ]
  },
  {
   "cell_type": "code",
   "execution_count": 7,
   "metadata": {},
   "outputs": [
    {
     "data": {
      "text/plain": [
       "14434"
      ]
     },
     "execution_count": 7,
     "metadata": {},
     "output_type": "execute_result"
    }
   ],
   "source": [
    "len(data.train_ds)"
   ]
  },
  {
   "cell_type": "code",
   "execution_count": 8,
   "metadata": {},
   "outputs": [
    {
     "data": {
      "text/plain": [
       "LabelList (0 items)\n",
       "x: GANItemList\n",
       "\n",
       "y: ImageList\n",
       "\n",
       "Path: mnist_sample"
      ]
     },
     "execution_count": 8,
     "metadata": {},
     "output_type": "execute_result"
    }
   ],
   "source": [
    "data.valid_ds"
   ]
  },
  {
   "cell_type": "code",
   "execution_count": 9,
   "metadata": {},
   "outputs": [
    {
     "data": {
      "text/plain": [
       "LabelList (14434 items)\n",
       "x: GANItemList\n",
       ",,,,\n",
       "y: ImageList\n",
       "Image (3, 16, 16),Image (3, 16, 16),Image (3, 16, 16),Image (3, 16, 16),Image (3, 16, 16)\n",
       "Path: mnist_sample"
      ]
     },
     "execution_count": 9,
     "metadata": {},
     "output_type": "execute_result"
    }
   ],
   "source": [
    "data.train_ds"
   ]
  },
  {
   "cell_type": "code",
   "execution_count": 10,
   "metadata": {},
   "outputs": [
    {
     "data": {
      "image/png": "[encoded data removed]",
      "text/plain": [
       "<matplotlib.figure.Figure at 0x7f739e99e8>"
      ]
     },
     "metadata": {
      "needs_background": "light"
     },
     "output_type": "display_data"
    }
   ],
   "source": [
    "data.show_batch(rows=5,figsize=(8,8))"
   ]
  },
  {
   "cell_type": "markdown",
   "metadata": {},
   "source": [
    "## 创建Models模型"
   ]
  },
  {
   "cell_type": "markdown",
   "metadata": {},
   "source": [
    "GAN即生成对抗网络心概念是同时训练两个模型：一个生成器网络和一个评判网络。生成器网络将自创和数据集中的图片相似的新图片，而评判网络则试图从生成器生成的图片中分辨出真实的图片。生成器给出图片，评判网络则输出一个（作为评判结果的）值（通常0表示赝品,1表示真品）。"
   ]
  },
  {
   "cell_type": "markdown",
   "metadata": {},
   "source": [
    "这两个网络每一步都在做对抗训练，就像在打乒乓球你来我往，我们如下这样操做："
   ]
  },
  {
   "cell_type": "markdown",
   "metadata": {},
   "source": [
    "1. 冻结创作网络，训练鉴别网络:\n",
    "  - 获取一批真品图片(我们简称为`真`)\n",
    "  - 产生一批赝品图片(我们简称为`假`)\n",
    "  - 让鉴别网络评估这批数据并计算出损失函数值；重要的一点是，如果判断为真就要给与奖励，反之，判断为假则予以惩罚。\n",
    "  - 使用损失函数的梯度来更新鉴别网络的权重"
   ]
  },
  {
   "cell_type": "markdown",
   "metadata": {},
   "source": [
    "2. 冻结鉴别网络，训练创作网络：\n",
    "  - 产生一批赝品图片\n",
    "  - 鉴别网络对这些图片进行评判\n",
    "  - 返回损失（函数），这是评判网络得到的所有真实图片的回馈，它的重要作用是，探测出真实图片就给予奖励,反之则给予惩罚\n",
    "  - 使用损失函数的梯度来更新创作网络的权重"
   ]
  },
  {
   "cell_type": "markdown",
   "metadata": {},
   "source": [
    "<img src=\"gan.png\" width=\"40%\">"
   ]
  },
  {
   "cell_type": "markdown",
   "metadata": {},
   "source": [
    "这里,我们将使用[Wassertein GAN](https://arxiv.org/pdf/1701.07875.pdf)这篇论文中的GAN网络。"
   ]
  },
  {
   "cell_type": "markdown",
   "metadata": {},
   "source": [
    "我们将创建一个生成器创作网络和一个评判鉴别网络，把他们作为参数传给`gan_learner`。"
   ]
  },
  {
   "cell_type": "markdown",
   "metadata": {},
   "source": [
    "创建创作网络 G"
   ]
  },
  {
   "cell_type": "code",
   "execution_count": 11,
   "metadata": {
    "collapsed": true
   },
   "outputs": [],
   "source": [
    "generator = basic_generator(in_size=16, n_channels=3, n_extra_layers=1)"
   ]
  },
  {
   "cell_type": "markdown",
   "metadata": {},
   "source": [
    "创建鉴别网络 D"
   ]
  },
  {
   "cell_type": "code",
   "execution_count": 12,
   "metadata": {
    "collapsed": true
   },
   "outputs": [],
   "source": [
    "critic = basic_critic(in_size=16, n_channels=3, n_extra_layers=1)"
   ]
  },
  {
   "cell_type": "markdown",
   "metadata": {},
   "source": [
    "我们将生成器创作网络G和评判鉴别网络D作为参数传给`gan_learner`,创建一个wgan网络。"
   ]
  },
  {
   "cell_type": "code",
   "execution_count": 13,
   "metadata": {
    "collapsed": true
   },
   "outputs": [],
   "source": [
    "learn = GANLearner.wgan(data, generator, critic, switch_eval=False,\n",
    "                        opt_func = partial(optim.Adam, betas = (0.,0.99)), wd=0.)"
   ]
  },
  {
   "cell_type": "markdown",
   "metadata": {},
   "source": [
    "训练wgan网络"
   ]
  },
  {
   "cell_type": "code",
   "execution_count": 14,
   "metadata": {},
   "outputs": [
    {
     "data": {
      "text/html": [
       "<table border=\"1\" class=\"dataframe\">\n",
       "  <thead>\n",
       "    <tr style=\"text-align: left;\">\n",
       "      <th>epoch</th>\n",
       "      <th>train_loss</th>\n",
       "      <th>valid_loss</th>\n",
       "      <th>gen_loss</th>\n",
       "      <th>disc_loss</th>\n",
       "      <th>time</th>\n",
       "    </tr>\n",
       "  </thead>\n",
       "  <tbody>\n",
       "    <tr>\n",
       "      <td>0</td>\n",
       "      <td>-0.272951</td>\n",
       "      <td>#na#</td>\n",
       "      <td>0.165489</td>\n",
       "      <td>-0.365524</td>\n",
       "      <td>00:27</td>\n",
       "    </tr>\n",
       "    <tr>\n",
       "      <td>1</td>\n",
       "      <td>-0.251087</td>\n",
       "      <td>#na#</td>\n",
       "      <td>0.163671</td>\n",
       "      <td>-0.334184</td>\n",
       "      <td>00:24</td>\n",
       "    </tr>\n",
       "    <tr>\n",
       "      <td>2</td>\n",
       "      <td>-0.251694</td>\n",
       "      <td>#na#</td>\n",
       "      <td>0.155944</td>\n",
       "      <td>-0.331715</td>\n",
       "      <td>00:25</td>\n",
       "    </tr>\n",
       "    <tr>\n",
       "      <td>3</td>\n",
       "      <td>-0.243132</td>\n",
       "      <td>#na#</td>\n",
       "      <td>0.152781</td>\n",
       "      <td>-0.319577</td>\n",
       "      <td>00:25</td>\n",
       "    </tr>\n",
       "    <tr>\n",
       "      <td>4</td>\n",
       "      <td>-0.176241</td>\n",
       "      <td>#na#</td>\n",
       "      <td>0.127188</td>\n",
       "      <td>-0.231149</td>\n",
       "      <td>00:25</td>\n",
       "    </tr>\n",
       "  </tbody>\n",
       "</table>"
      ],
      "text/plain": [
       "<IPython.core.display.HTML object>"
      ]
     },
     "metadata": {},
     "output_type": "display_data"
    },
    {
     "data": {
      "image/png": "[encoded data removed]",
      "text/plain": [
       "<matplotlib.figure.Figure at 0x7ef2d4b438>"
      ]
     },
     "metadata": {},
     "output_type": "display_data"
    }
   ],
   "source": [
    "learn.fit(5,2e-4)"
   ]
  },
  {
   "cell_type": "code",
   "execution_count": 53,
   "metadata": {},
   "outputs": [
    {
     "data": {
      "text/html": [
       "<table border=\"1\" class=\"dataframe\">\n",
       "  <thead>\n",
       "    <tr style=\"text-align: left;\">\n",
       "      <th>epoch</th>\n",
       "      <th>train_loss</th>\n",
       "      <th>valid_loss</th>\n",
       "      <th>gen_loss</th>\n",
       "      <th>disc_loss</th>\n",
       "      <th>time</th>\n",
       "    </tr>\n",
       "  </thead>\n",
       "  <tbody>\n",
       "    <tr>\n",
       "      <td>0</td>\n",
       "      <td>-0.267383</td>\n",
       "      <td>#na#</td>\n",
       "      <td>0.163779</td>\n",
       "      <td>-0.358374</td>\n",
       "      <td>00:25</td>\n",
       "    </tr>\n",
       "    <tr>\n",
       "      <td>1</td>\n",
       "      <td>-0.249058</td>\n",
       "      <td>#na#</td>\n",
       "      <td>0.156861</td>\n",
       "      <td>-0.330538</td>\n",
       "      <td>00:24</td>\n",
       "    </tr>\n",
       "    <tr>\n",
       "      <td>2</td>\n",
       "      <td>-0.251741</td>\n",
       "      <td>#na#</td>\n",
       "      <td>0.155494</td>\n",
       "      <td>-0.332117</td>\n",
       "      <td>00:24</td>\n",
       "    </tr>\n",
       "    <tr>\n",
       "      <td>3</td>\n",
       "      <td>-0.240912</td>\n",
       "      <td>#na#</td>\n",
       "      <td>0.151434</td>\n",
       "      <td>-0.316421</td>\n",
       "      <td>00:24</td>\n",
       "    </tr>\n",
       "    <tr>\n",
       "      <td>4</td>\n",
       "      <td>-0.157161</td>\n",
       "      <td>#na#</td>\n",
       "      <td>0.119594</td>\n",
       "      <td>-0.205941</td>\n",
       "      <td>00:25</td>\n",
       "    </tr>\n",
       "    <tr>\n",
       "      <td>5</td>\n",
       "      <td>-0.117774</td>\n",
       "      <td>#na#</td>\n",
       "      <td>0.092566</td>\n",
       "      <td>-0.161695</td>\n",
       "      <td>00:25</td>\n",
       "    </tr>\n",
       "    <tr>\n",
       "      <td>6</td>\n",
       "      <td>-0.104487</td>\n",
       "      <td>#na#</td>\n",
       "      <td>0.080093</td>\n",
       "      <td>-0.142379</td>\n",
       "      <td>00:25</td>\n",
       "    </tr>\n",
       "    <tr>\n",
       "      <td>7</td>\n",
       "      <td>-0.101917</td>\n",
       "      <td>#na#</td>\n",
       "      <td>0.066924</td>\n",
       "      <td>-0.133676</td>\n",
       "      <td>00:27</td>\n",
       "    </tr>\n",
       "    <tr>\n",
       "      <td>8</td>\n",
       "      <td>-0.091747</td>\n",
       "      <td>#na#</td>\n",
       "      <td>0.071565</td>\n",
       "      <td>-0.124951</td>\n",
       "      <td>00:26</td>\n",
       "    </tr>\n",
       "    <tr>\n",
       "      <td>9</td>\n",
       "      <td>-0.085642</td>\n",
       "      <td>#na#</td>\n",
       "      <td>0.069199</td>\n",
       "      <td>-0.114922</td>\n",
       "      <td>00:26</td>\n",
       "    </tr>\n",
       "    <tr>\n",
       "      <td>10</td>\n",
       "      <td>-0.081235</td>\n",
       "      <td>#na#</td>\n",
       "      <td>0.064124</td>\n",
       "      <td>-0.110220</td>\n",
       "      <td>00:26</td>\n",
       "    </tr>\n",
       "    <tr>\n",
       "      <td>11</td>\n",
       "      <td>-0.076262</td>\n",
       "      <td>#na#</td>\n",
       "      <td>0.061473</td>\n",
       "      <td>-0.106596</td>\n",
       "      <td>00:26</td>\n",
       "    </tr>\n",
       "    <tr>\n",
       "      <td>12</td>\n",
       "      <td>-0.071808</td>\n",
       "      <td>#na#</td>\n",
       "      <td>0.060425</td>\n",
       "      <td>-0.100813</td>\n",
       "      <td>00:28</td>\n",
       "    </tr>\n",
       "    <tr>\n",
       "      <td>13</td>\n",
       "      <td>-0.072602</td>\n",
       "      <td>#na#</td>\n",
       "      <td>0.056499</td>\n",
       "      <td>-0.097865</td>\n",
       "      <td>00:27</td>\n",
       "    </tr>\n",
       "    <tr>\n",
       "      <td>14</td>\n",
       "      <td>-0.071173</td>\n",
       "      <td>#na#</td>\n",
       "      <td>0.054932</td>\n",
       "      <td>-0.094430</td>\n",
       "      <td>00:27</td>\n",
       "    </tr>\n",
       "    <tr>\n",
       "      <td>15</td>\n",
       "      <td>-0.067128</td>\n",
       "      <td>#na#</td>\n",
       "      <td>0.052347</td>\n",
       "      <td>-0.090607</td>\n",
       "      <td>00:27</td>\n",
       "    </tr>\n",
       "    <tr>\n",
       "      <td>16</td>\n",
       "      <td>-0.065920</td>\n",
       "      <td>#na#</td>\n",
       "      <td>0.048741</td>\n",
       "      <td>-0.087281</td>\n",
       "      <td>00:29</td>\n",
       "    </tr>\n",
       "    <tr>\n",
       "      <td>17</td>\n",
       "      <td>-0.061630</td>\n",
       "      <td>#na#</td>\n",
       "      <td>0.046764</td>\n",
       "      <td>-0.083430</td>\n",
       "      <td>00:28</td>\n",
       "    </tr>\n",
       "    <tr>\n",
       "      <td>18</td>\n",
       "      <td>-0.059345</td>\n",
       "      <td>#na#</td>\n",
       "      <td>0.050858</td>\n",
       "      <td>-0.082481</td>\n",
       "      <td>00:28</td>\n",
       "    </tr>\n",
       "    <tr>\n",
       "      <td>19</td>\n",
       "      <td>-0.058395</td>\n",
       "      <td>#na#</td>\n",
       "      <td>0.044699</td>\n",
       "      <td>-0.079490</td>\n",
       "      <td>00:28</td>\n",
       "    </tr>\n",
       "    <tr>\n",
       "      <td>20</td>\n",
       "      <td>-0.056864</td>\n",
       "      <td>#na#</td>\n",
       "      <td>0.043167</td>\n",
       "      <td>-0.076860</td>\n",
       "      <td>00:30</td>\n",
       "    </tr>\n",
       "    <tr>\n",
       "      <td>21</td>\n",
       "      <td>-0.057426</td>\n",
       "      <td>#na#</td>\n",
       "      <td>0.042278</td>\n",
       "      <td>-0.074963</td>\n",
       "      <td>00:29</td>\n",
       "    </tr>\n",
       "    <tr>\n",
       "      <td>22</td>\n",
       "      <td>-0.053949</td>\n",
       "      <td>#na#</td>\n",
       "      <td>0.040054</td>\n",
       "      <td>-0.071645</td>\n",
       "      <td>00:29</td>\n",
       "    </tr>\n",
       "    <tr>\n",
       "      <td>23</td>\n",
       "      <td>-0.051344</td>\n",
       "      <td>#na#</td>\n",
       "      <td>0.037945</td>\n",
       "      <td>-0.068875</td>\n",
       "      <td>00:29</td>\n",
       "    </tr>\n",
       "    <tr>\n",
       "      <td>24</td>\n",
       "      <td>-0.046132</td>\n",
       "      <td>#na#</td>\n",
       "      <td>0.039954</td>\n",
       "      <td>-0.064698</td>\n",
       "      <td>00:31</td>\n",
       "    </tr>\n",
       "    <tr>\n",
       "      <td>25</td>\n",
       "      <td>-0.047036</td>\n",
       "      <td>#na#</td>\n",
       "      <td>0.040353</td>\n",
       "      <td>-0.065614</td>\n",
       "      <td>00:30</td>\n",
       "    </tr>\n",
       "    <tr>\n",
       "      <td>26</td>\n",
       "      <td>-0.046741</td>\n",
       "      <td>#na#</td>\n",
       "      <td>0.034377</td>\n",
       "      <td>-0.062201</td>\n",
       "      <td>00:30</td>\n",
       "    </tr>\n",
       "    <tr>\n",
       "      <td>27</td>\n",
       "      <td>-0.045547</td>\n",
       "      <td>#na#</td>\n",
       "      <td>0.033221</td>\n",
       "      <td>-0.060763</td>\n",
       "      <td>00:30</td>\n",
       "    </tr>\n",
       "    <tr>\n",
       "      <td>28</td>\n",
       "      <td>-0.044669</td>\n",
       "      <td>#na#</td>\n",
       "      <td>0.032345</td>\n",
       "      <td>-0.059187</td>\n",
       "      <td>00:31</td>\n",
       "    </tr>\n",
       "    <tr>\n",
       "      <td>29</td>\n",
       "      <td>-0.041434</td>\n",
       "      <td>#na#</td>\n",
       "      <td>0.037924</td>\n",
       "      <td>-0.058913</td>\n",
       "      <td>00:33</td>\n",
       "    </tr>\n",
       "  </tbody>\n",
       "</table>"
      ],
      "text/plain": [
       "<IPython.core.display.HTML object>"
      ]
     },
     "metadata": {},
     "output_type": "display_data"
    },
    {
     "data": {
      "image/png": "[encoded data removed]",
      "text/plain": [
       "<matplotlib.figure.Figure at 0x7eb901b470>"
      ]
     },
     "metadata": {},
     "output_type": "display_data"
    }
   ],
   "source": [
    "# learn.fit(30,2e-4)"
   ]
  },
  {
   "cell_type": "code",
   "execution_count": 16,
   "metadata": {},
   "outputs": [],
   "source": [
    "# learn.save('wgan_37')"
   ]
  },
  {
   "cell_type": "code",
   "execution_count": 16,
   "metadata": {},
   "outputs": [
    {
     "data": {
      "text/plain": [
       "GANModule\n",
       "======================================================================\n",
       "Layer (type)         Output Shape         Param #    Trainable \n",
       "======================================================================\n",
       "ConvTranspose2d      [128, 4, 4]          204,800    True      \n",
       "______________________________________________________________________\n",
       "ReLU                 [128, 4, 4]          0          False     \n",
       "______________________________________________________________________\n",
       "BatchNorm2d          [128, 4, 4]          256        True      \n",
       "______________________________________________________________________\n",
       "ConvTranspose2d      [64, 8, 8]           131,072    True      \n",
       "______________________________________________________________________\n",
       "ReLU                 [64, 8, 8]           0          False     \n",
       "______________________________________________________________________\n",
       "BatchNorm2d          [64, 8, 8]           128        True      \n",
       "______________________________________________________________________\n",
       "ConvTranspose2d      [64, 8, 8]           36,864     True      \n",
       "______________________________________________________________________\n",
       "ReLU                 [64, 8, 8]           0          False     \n",
       "______________________________________________________________________\n",
       "BatchNorm2d          [64, 8, 8]           128        True      \n",
       "______________________________________________________________________\n",
       "ConvTranspose2d      [3, 16, 16]          3,072      True      \n",
       "______________________________________________________________________\n",
       "Tanh                 [3, 16, 16]          0          False     \n",
       "______________________________________________________________________\n",
       "\n",
       "Total params: 376,320\n",
       "Total trainable params: 376,320\n",
       "Total non-trainable params: 0\n",
       "Optimized with 'torch.optim.adam.Adam', betas=(0.0, 0.99)\n",
       "Using true weight decay as discussed in https://www.fast.ai/2018/07/02/adam-weight-decay/ \n",
       "Loss function : GANLoss\n",
       "======================================================================\n",
       "Callbacks functions applied \n",
       "    GANTrainer"
      ]
     },
     "execution_count": 16,
     "metadata": {},
     "output_type": "execute_result"
    }
   ],
   "source": [
    "learn.load('wgan_37');learn.summary()"
   ]
  },
  {
   "cell_type": "markdown",
   "metadata": {},
   "source": [
    "## 评估模型训练效果"
   ]
  },
  {
   "cell_type": "code",
   "execution_count": 17,
   "metadata": {},
   "outputs": [
    {
     "data": {
      "image/png": "[encoded data removed]",
      "text/plain": [
       "<matplotlib.figure.Figure at 0x7ef35d0e10>"
      ]
     },
     "metadata": {
      "needs_background": "light"
     },
     "output_type": "display_data"
    }
   ],
   "source": [
    "learn.gan_trainer.switch(gen_mode=True)\n",
    "learn.show_results(ds_type=None, rows=5, figsize=(8,8))"
   ]
  },
  {
   "cell_type": "code",
   "execution_count": null,
   "metadata": {},
   "outputs": [],
   "source": []
  }
 ],
 "metadata": {
  "kernelspec": {
   "display_name": "Python 3",
   "language": "python",
   "name": "python3"
  },
  "language_info": {
   "codemirror_mode": {
    "name": "ipython",
    "version": 3
   },
   "file_extension": ".py",
   "mimetype": "text/x-python",
   "name": "python",
   "nbconvert_exporter": "python",
   "pygments_lexer": "ipython3",
   "version": "3.6.8"
  },
  "toc": {
   "base_numbering": 1,
   "nav_menu": {},
   "number_sections": true,
   "sideBar": true,
   "skip_h1_title": false,
   "title_cell": "Table of Contents",
   "title_sidebar": "Contents",
   "toc_cell": false,
   "toc_position": {},
   "toc_section_display": true,
   "toc_window_display": false
  }
 },
 "nbformat": 4,
 "nbformat_minor": 2
}
